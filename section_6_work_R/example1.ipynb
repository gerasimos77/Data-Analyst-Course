{
 "cells": [
  {
   "cell_type": "markdown",
   "id": "4eda2e03-d330-43e8-987d-f38b27256ffd",
   "metadata": {},
   "source": [
    "# Εισαγωγή Δεδομένων"
   ]
  },
  {
   "cell_type": "code",
   "execution_count": 1,
   "id": "217b6b72-1574-4150-86d0-630d3819a8fd",
   "metadata": {},
   "outputs": [],
   "source": [
    "df <- read.table('salaries.csv', sep=\",\", header=T)"
   ]
  },
  {
   "cell_type": "code",
   "execution_count": 2,
   "id": "b545bcd2-3535-4d43-8c7f-83611c046e46",
   "metadata": {},
   "outputs": [
    {
     "name": "stdout",
     "output_type": "stream",
     "text": [
      "  Exp Salary\n",
      "1   1  45000\n",
      "2   2  50000\n",
      "3   3  60000\n",
      "4   4 170000\n",
      "5   5 400000\n",
      "6   6 280000\n"
     ]
    }
   ],
   "source": [
    "print(head(df))"
   ]
  },
  {
   "cell_type": "markdown",
   "id": "91ada5dd-93d4-4b6f-9ee7-5a6efb5ead67",
   "metadata": {},
   "source": [
    "# Αναλυση Δεδομένων"
   ]
  },
  {
   "cell_type": "code",
   "execution_count": 3,
   "id": "02074ee9-482a-43f9-ba52-bdb4279ffc63",
   "metadata": {},
   "outputs": [
    {
     "name": "stdout",
     "output_type": "stream",
     "text": [
      "        Exp Salary\n",
      " [1,] FALSE  FALSE\n",
      " [2,] FALSE  FALSE\n",
      " [3,] FALSE  FALSE\n",
      " [4,] FALSE  FALSE\n",
      " [5,] FALSE  FALSE\n",
      " [6,] FALSE  FALSE\n",
      " [7,] FALSE  FALSE\n",
      " [8,] FALSE  FALSE\n",
      " [9,] FALSE  FALSE\n",
      "[10,] FALSE  FALSE\n",
      "[11,] FALSE  FALSE\n",
      "[12,] FALSE  FALSE\n",
      "[13,] FALSE   TRUE\n"
     ]
    }
   ],
   "source": [
    "# έλεγχος για τιμές που απουσιάζουν με την συνάρτηση is.na()\n",
    "missing_values <- is.na(df)\n",
    "\n",
    "# Display the result\n",
    "print(missing_values)"
   ]
  },
  {
   "cell_type": "code",
   "execution_count": 4,
   "id": "24d047cc-076e-4aaa-8ca4-9d8e8a16bd2f",
   "metadata": {},
   "outputs": [
    {
     "name": "stdout",
     "output_type": "stream",
     "text": [
      "   Exp Salary \n",
      "     0      1 \n"
     ]
    }
   ],
   "source": [
    "# έλεγχος για τιμές που απουσιάζουν με την συνάρτηση is.na() & colSums()\n",
    "missing_values_count <- colSums(is.na(df))\n",
    "\n",
    "# Display the result\n",
    "print(missing_values_count)"
   ]
  },
  {
   "cell_type": "code",
   "execution_count": 5,
   "id": "e1b7f60e-38e4-4fe6-ad58-95e79dd66c04",
   "metadata": {},
   "outputs": [],
   "source": [
    "df<-na.omit(df)"
   ]
  },
  {
   "cell_type": "code",
   "execution_count": 6,
   "id": "28c9e4c0-0207-481e-9953-64394bbc08f8",
   "metadata": {},
   "outputs": [
    {
     "name": "stdout",
     "output_type": "stream",
     "text": [
      "     Exp Salary\n",
      "1  FALSE  FALSE\n",
      "2  FALSE  FALSE\n",
      "3  FALSE  FALSE\n",
      "4  FALSE  FALSE\n",
      "5  FALSE  FALSE\n",
      "6  FALSE  FALSE\n",
      "7  FALSE  FALSE\n",
      "8  FALSE  FALSE\n",
      "9  FALSE  FALSE\n",
      "10 FALSE  FALSE\n",
      "11 FALSE  FALSE\n",
      "12 FALSE  FALSE\n"
     ]
    }
   ],
   "source": [
    "# έλεγχος για τιμές που απουσιάζουν με την συνάρτηση is.na()\n",
    "missing_values <- is.na(df)\n",
    "\n",
    "# Display the result\n",
    "print(missing_values)"
   ]
  },
  {
   "cell_type": "code",
   "execution_count": 7,
   "id": "32b9bfca-fd12-4d54-815b-3bbaffb0ee8c",
   "metadata": {},
   "outputs": [
    {
     "name": "stdout",
     "output_type": "stream",
     "text": [
      "             Exp    Salary\n",
      "Exp    1.0000000 0.9429595\n",
      "Salary 0.9429595 1.0000000\n"
     ]
    }
   ],
   "source": [
    "# έλεγχος της συσχέτισης των δεδομένων με την συναρτηση cor()\n",
    "correlation_matrix <- cor(df, use = \"complete.obs\")\n",
    "\n",
    "print(correlation_matrix)"
   ]
  },
  {
   "cell_type": "code",
   "execution_count": 8,
   "id": "83ef6295-47af-4387-9a2c-368c35dd02dc",
   "metadata": {},
   "outputs": [
    {
     "name": "stdout",
     "output_type": "stream",
     "text": [
      "      Exp             Salary       \n",
      " Min.   : 1.000   Min.   :  45000  \n",
      " 1st Qu.: 3.750   1st Qu.: 142500  \n",
      " Median : 6.500   Median : 410000  \n",
      " Mean   : 6.458   Mean   : 492917  \n",
      " 3rd Qu.: 9.250   3rd Qu.: 692500  \n",
      " Max.   :11.500   Max.   :1300000  \n"
     ]
    }
   ],
   "source": [
    "# εμφάνιση συγκεντρωτικών στατιστικών ανά μεταβλητή με την συνάρτηση summary()\n",
    "summary_statistics <- summary(df)\n",
    "\n",
    "print(summary_statistics)"
   ]
  },
  {
   "cell_type": "code",
   "execution_count": 9,
   "id": "c2849bde-0235-44b3-b5dc-ee1401f8a8c1",
   "metadata": {},
   "outputs": [
    {
     "data": {
      "image/png": "[encoded data removed]",
      "text/plain": [
       "Plot with title \"Scatter Plot of Investments vs Income\""
      ]
     },
     "metadata": {
      "image/png": {
       "height": 420,
       "width": 420
      }
     },
     "output_type": "display_data"
    }
   ],
   "source": [
    "# οπτικοποίηση δεδομένων με scatterplot\n",
    "plot(df$Exp, df$Salary, \n",
    "     main = \"Scatter Plot of Investments vs Income\", \n",
    "     col = \"blue\", \n",
    "     pch = 16)"
   ]
  },
  {
   "cell_type": "code",
   "execution_count": 10,
   "id": "2fef82e4-9597-491c-9aff-9b29dc014bfe",
   "metadata": {},
   "outputs": [
    {
     "name": "stdout",
     "output_type": "stream",
     "text": [
      "package 'caret' successfully unpacked and MD5 sums checked\n",
      "\n",
      "The downloaded binary packages are in\n",
      "\tC:\\Users\\varvo\\AppData\\Local\\Temp\\RtmpE7e8NE\\downloaded_packages\n"
     ]
    },
    {
     "name": "stderr",
     "output_type": "stream",
     "text": [
      "Loading required package: ggplot2\n",
      "\n",
      "Loading required package: lattice\n",
      "\n"
     ]
    }
   ],
   "source": [
    "# εγκατάσταση πακέτου caret σε περίπτωση που δεν είναι ήση εγκατεστημένο στο σύστημα\n",
    "install.packages(\"caret\")\n",
    "\n",
    "library(caret)"
   ]
  },
  {
   "cell_type": "code",
   "execution_count": 11,
   "id": "2839a3d2-223e-4eef-a3ed-43611a57ffb0",
   "metadata": {},
   "outputs": [],
   "source": [
    "# με την εντολή set.seed(77) διασφαλίζεται πως κάθε φορά που εκτελείται αυτό το μπλοκ κώδικα, οι ίδιες εγγραφές καταλήγουν στο Σύνολο Εκπαίδευσης\n",
    "set.seed(77)\n",
    "\n",
    "# Define the proportion of data to be used for training\n",
    "train_proportion <- 0.75\n",
    "\n",
    "# Create a vector of row indices for the training set\n",
    "train_indices <- sample(1:nrow(df), size = round(train_proportion * nrow(df)))\n",
    "\n",
    "# Split the data into training and testing sets\n",
    "train_set <- df[train_indices, ]\n",
    "test_set <- df[-train_indices, ]"
   ]
  },
  {
   "cell_type": "code",
   "execution_count": 14,
   "id": "803c31b5-c359-4bd0-9305-8d90373f4865",
   "metadata": {},
   "outputs": [],
   "source": [
    "# Ορισμός και εκπαίδευση του μοντέλου\n",
    "model <- lm(Salary ~ Exp, data=train_set)"
   ]
  },
  {
   "cell_type": "code",
   "execution_count": 15,
   "id": "d5b63988-dd92-43ac-ada7-6a7b8ba53e06",
   "metadata": {},
   "outputs": [],
   "source": [
    "coefficients <- coef(model)\n",
    "intercept <- coefficients[1]\n",
    "coef <- coefficients[-1]"
   ]
  },
  {
   "cell_type": "code",
   "execution_count": 16,
   "id": "a51b3fd4-d5dd-453f-a89a-c1bac39dc265",
   "metadata": {},
   "outputs": [
    {
     "data": {
      "text/plain": [
       "\n",
       "Call:\n",
       "lm(formula = Salary ~ Exp, data = train_set)\n",
       "\n",
       "Residuals:\n",
       "    Min      1Q  Median      3Q     Max \n",
       "-169333 -109000   -8333  101333  125500 \n",
       "\n",
       "Coefficients:\n",
       "            Estimate Std. Error t value Pr(>|t|)    \n",
       "(Intercept)  -277167      96437  -2.874   0.0239 *  \n",
       "Exp           115167      13777   8.360 6.88e-05 ***\n",
       "---\n",
       "Signif. codes:  0 '***' 0.001 '**' 0.01 '*' 0.05 '.' 0.1 ' ' 1\n",
       "\n",
       "Residual standard error: 123200 on 7 degrees of freedom\n",
       "Multiple R-squared:  0.909,\tAdjusted R-squared:  0.8959 \n",
       "F-statistic: 69.88 on 1 and 7 DF,  p-value: 6.877e-05\n"
      ]
     },
     "metadata": {},
     "output_type": "display_data"
    }
   ],
   "source": [
    "summary(model)"
   ]
  },
  {
   "cell_type": "code",
   "execution_count": 17,
   "id": "fe8cd6b5-4cbd-414f-ad4e-66a34b42785d",
   "metadata": {},
   "outputs": [
    {
     "data": {
      "image/png": "[encoded data removed]",
      "text/plain": [
       "plot without title"
      ]
     },
     "metadata": {
      "image/png": {
       "height": 420,
       "width": 420
      }
     },
     "output_type": "display_data"
    }
   ],
   "source": [
    "plot(df$Exp, df$Salary)\n",
    "\n",
    "abline(model,col='red')"
   ]
  },
  {
   "cell_type": "code",
   "execution_count": 18,
   "id": "c4fbc717-345e-4be2-a4c1-73f4aff76520",
   "metadata": {},
   "outputs": [],
   "source": [
    "predictions <- data.frame(predict(model, newdata=test_set))"
   ]
  },
  {
   "cell_type": "code",
   "execution_count": 19,
   "id": "d841a5d1-e278-4b3a-96af-4cb13aa44dc2",
   "metadata": {},
   "outputs": [
    {
     "name": "stdout",
     "output_type": "stream",
     "text": [
      "    Exp  Salary\n",
      "1   1.0   45000\n",
      "8   8.0  500000\n",
      "12 11.5 1300000\n"
     ]
    }
   ],
   "source": [
    "print(test_set)"
   ]
  },
  {
   "cell_type": "code",
   "execution_count": 20,
   "id": "40cbfdeb-3044-45e6-a4e0-286f86937467",
   "metadata": {},
   "outputs": [],
   "source": [
    "r_squared_test <- R2(predictions, test_set$Salary)"
   ]
  },
  {
   "cell_type": "code",
   "execution_count": 21,
   "id": "ddb23683-e8d8-4a1a-957e-a42a97268f7b",
   "metadata": {},
   "outputs": [
    {
     "data": {
      "text/html": [
       "<table class=\"dataframe\">\n",
       "<caption>A matrix: 1 × 1 of type dbl</caption>\n",
       "<thead>\n",
       "\t<tr><th scope=col>predict.model..newdata...test_set.</th></tr>\n",
       "</thead>\n",
       "<tbody>\n",
       "\t<tr><td>0.8840099</td></tr>\n",
       "</tbody>\n",
       "</table>\n"
      ],
      "text/latex": [
       "A matrix: 1 × 1 of type dbl\n",
       "\\begin{tabular}{l}\n",
       " predict.model..newdata...test\\_set.\\\\\n",
       "\\hline\n",
       "\t 0.8840099\\\\\n",
       "\\end{tabular}\n"
      ],
      "text/markdown": [
       "\n",
       "A matrix: 1 × 1 of type dbl\n",
       "\n",
       "| predict.model..newdata...test_set. |\n",
       "|---|\n",
       "| 0.8840099 |\n",
       "\n"
      ],
      "text/plain": [
       "     predict.model..newdata...test_set.\n",
       "[1,] 0.8840099                         "
      ]
     },
     "metadata": {},
     "output_type": "display_data"
    }
   ],
   "source": [
    "r_squared_test"
   ]
  },
  {
   "cell_type": "code",
   "execution_count": null,
   "id": "2a24cda6-530f-47a1-9d32-07fe2af7b65d",
   "metadata": {},
   "outputs": [],
   "source": []
  }
 ],
 "metadata": {
  "kernelspec": {
   "display_name": "R",
   "language": "R",
   "name": "ir"
  },
  "language_info": {
   "codemirror_mode": "r",
   "file_extension": ".r",
   "mimetype": "text/x-r-source",
   "name": "R",
   "pygments_lexer": "r",
   "version": "4.5.1"
  }
 },
 "nbformat": 4,
 "nbformat_minor": 5
}
