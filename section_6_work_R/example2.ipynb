{
 "cells": [
  {
   "cell_type": "code",
   "execution_count": 1,
   "id": "2663cdb5-0645-4892-9283-cf733bc34efe",
   "metadata": {},
   "outputs": [],
   "source": [
    "df <- read.table('salaries.csv', sep=\",\", header=T)"
   ]
  },
  {
   "cell_type": "code",
   "execution_count": 2,
   "id": "b545bcd2-3535-4d43-8c7f-83611c046e46",
   "metadata": {},
   "outputs": [
    {
     "name": "stdout",
     "output_type": "stream",
     "text": [
      "  Exp Salary\n",
      "1   1  45000\n",
      "2   2  50000\n",
      "3   3  60000\n",
      "4   4 170000\n",
      "5   5 400000\n",
      "6   6 280000\n"
     ]
    }
   ],
   "source": [
    "print(head(df))"
   ]
  },
  {
   "cell_type": "markdown",
   "id": "91ada5dd-93d4-4b6f-9ee7-5a6efb5ead67",
   "metadata": {},
   "source": [
    "# Αναλυση Δεδομένων"
   ]
  },
  {
   "cell_type": "code",
   "execution_count": 3,
   "id": "02074ee9-482a-43f9-ba52-bdb4279ffc63",
   "metadata": {},
   "outputs": [
    {
     "name": "stdout",
     "output_type": "stream",
     "text": [
      "        Exp Salary\n",
      " [1,] FALSE  FALSE\n",
      " [2,] FALSE  FALSE\n",
      " [3,] FALSE  FALSE\n",
      " [4,] FALSE  FALSE\n",
      " [5,] FALSE  FALSE\n",
      " [6,] FALSE  FALSE\n",
      " [7,] FALSE  FALSE\n",
      " [8,] FALSE  FALSE\n",
      " [9,] FALSE  FALSE\n",
      "[10,] FALSE  FALSE\n",
      "[11,] FALSE  FALSE\n",
      "[12,] FALSE  FALSE\n",
      "[13,] FALSE   TRUE\n"
     ]
    }
   ],
   "source": [
    "# έλεγχος για τιμές που απουσιάζουν με την συνάρτηση is.na()\n",
    "missing_values <- is.na(df)\n",
    "\n",
    "# Display the result\n",
    "print(missing_values)"
   ]
  },
  {
   "cell_type": "code",
   "execution_count": 4,
   "id": "24d047cc-076e-4aaa-8ca4-9d8e8a16bd2f",
   "metadata": {},
   "outputs": [
    {
     "name": "stdout",
     "output_type": "stream",
     "text": [
      "   Exp Salary \n",
      "     0      1 \n"
     ]
    }
   ],
   "source": [
    "# έλεγχος για τιμές που απουσιάζουν με την συνάρτηση is.na() & colSums()\n",
    "missing_values_count <- colSums(is.na(df))\n",
    "\n",
    "# Display the result\n",
    "print(missing_values_count)"
   ]
  },
  {
   "cell_type": "code",
   "execution_count": 5,
   "id": "e1b7f60e-38e4-4fe6-ad58-95e79dd66c04",
   "metadata": {},
   "outputs": [],
   "source": [
    "df<-na.omit(df)"
   ]
  },
  {
   "cell_type": "code",
   "execution_count": 6,
   "id": "28c9e4c0-0207-481e-9953-64394bbc08f8",
   "metadata": {},
   "outputs": [
    {
     "name": "stdout",
     "output_type": "stream",
     "text": [
      "     Exp Salary\n",
      "1  FALSE  FALSE\n",
      "2  FALSE  FALSE\n",
      "3  FALSE  FALSE\n",
      "4  FALSE  FALSE\n",
      "5  FALSE  FALSE\n",
      "6  FALSE  FALSE\n",
      "7  FALSE  FALSE\n",
      "8  FALSE  FALSE\n",
      "9  FALSE  FALSE\n",
      "10 FALSE  FALSE\n",
      "11 FALSE  FALSE\n",
      "12 FALSE  FALSE\n"
     ]
    }
   ],
   "source": [
    "# έλεγχος για τιμές που απουσιάζουν με την συνάρτηση is.na()\n",
    "missing_values <- is.na(df)\n",
    "\n",
    "# Display the result\n",
    "print(missing_values)"
   ]
  },
  {
   "cell_type": "code",
   "execution_count": 7,
   "id": "32b9bfca-fd12-4d54-815b-3bbaffb0ee8c",
   "metadata": {},
   "outputs": [
    {
     "name": "stdout",
     "output_type": "stream",
     "text": [
      "             Exp    Salary\n",
      "Exp    1.0000000 0.9429595\n",
      "Salary 0.9429595 1.0000000\n"
     ]
    }
   ],
   "source": [
    "# έλεγχος της συσχέτισης των δεδομένων με την συναρτηση cor()\n",
    "correlation_matrix <- cor(df, use = \"complete.obs\")\n",
    "\n",
    "print(correlation_matrix)"
   ]
  },
  {
   "cell_type": "code",
   "execution_count": 8,
   "id": "83ef6295-47af-4387-9a2c-368c35dd02dc",
   "metadata": {},
   "outputs": [
    {
     "name": "stdout",
     "output_type": "stream",
     "text": [
      "      Exp             Salary       \n",
      " Min.   : 1.000   Min.   :  45000  \n",
      " 1st Qu.: 3.750   1st Qu.: 142500  \n",
      " Median : 6.500   Median : 410000  \n",
      " Mean   : 6.458   Mean   : 492917  \n",
      " 3rd Qu.: 9.250   3rd Qu.: 692500  \n",
      " Max.   :11.500   Max.   :1300000  \n"
     ]
    }
   ],
   "source": [
    "# εμφάνιση συγκεντρωτικών στατιστικών ανά μεταβλητή με την συνάρτηση summary()\n",
    "summary_statistics <- summary(df)\n",
    "\n",
    "print(summary_statistics)"
   ]
  },
  {
   "cell_type": "code",
   "execution_count": 9,
   "id": "c2849bde-0235-44b3-b5dc-ee1401f8a8c1",
   "metadata": {},
   "outputs": [
    {
     "data": {
      "image/png": "[encoded data removed]",
      "text/plain": [
       "Plot with title \"Scatter Plot of Investments vs Income\""
      ]
     },
     "metadata": {
      "image/png": {
       "height": 420,
       "width": 420
      }
     },
     "output_type": "display_data"
    }
   ],
   "source": [
    "# οπτικοποίηση δεδομένων με scatterplot\n",
    "plot(df$Exp, df$Salary, \n",
    "     main = \"Scatter Plot of Investments vs Income\", \n",
    "     col = \"blue\", \n",
    "     pch = 16)"
   ]
  },
  {
   "cell_type": "code",
   "execution_count": 10,
   "id": "2fef82e4-9597-491c-9aff-9b29dc014bfe",
   "metadata": {},
   "outputs": [
    {
     "name": "stdout",
     "output_type": "stream",
     "text": [
      "package 'caret' successfully unpacked and MD5 sums checked\n"
     ]
    },
    {
     "name": "stderr",
     "output_type": "stream",
     "text": [
      "Warning message:\n",
      "\"cannot remove prior installation of package 'caret'\"\n",
      "Warning message in file.copy(savedcopy, lib, recursive = TRUE):\n",
      "\"problem copying C:\\Users\\varvo\\AppData\\Local\\Programs\\R\\R-4.5.1\\library\\00LOCK\\caret\\libs\\x64\\caret.dll to C:\\Users\\varvo\\AppData\\Local\\Programs\\R\\R-4.5.1\\library\\caret\\libs\\x64\\caret.dll: Permission denied\"\n",
      "Warning message:\n",
      "\"restored 'caret'\"\n"
     ]
    },
    {
     "name": "stdout",
     "output_type": "stream",
     "text": [
      "\n",
      "The downloaded binary packages are in\n",
      "\tC:\\Users\\varvo\\AppData\\Local\\Temp\\RtmpQHuJLe\\downloaded_packages\n"
     ]
    },
    {
     "name": "stderr",
     "output_type": "stream",
     "text": [
      "Loading required package: ggplot2\n",
      "\n",
      "Loading required package: lattice\n",
      "\n"
     ]
    }
   ],
   "source": [
    "# εγκατάσταση πακέτου caret σε περίπτωση που δεν είναι ήση εγκατεστημένο στο σύστημα\n",
    "install.packages(\"caret\")\n",
    "\n",
    "library(caret)"
   ]
  },
  {
   "cell_type": "code",
   "execution_count": 11,
   "id": "2839a3d2-223e-4eef-a3ed-43611a57ffb0",
   "metadata": {},
   "outputs": [],
   "source": [
    "# με την εντολή set.seed(77) διασφαλίζεται πως κάθε φορά που εκτελείται αυτό το μπλοκ κώδικα, οι ίδιες εγγραφές καταλήγουν στο Σύνολο Εκπαίδευσης\n",
    "set.seed(77)\n",
    "\n",
    "# Define the proportion of data to be used for training\n",
    "train_proportion <- 0.75\n",
    "\n",
    "# Create a vector of row indices for the training set\n",
    "train_indices <- sample(1:nrow(df), size = round(train_proportion * nrow(df)))\n",
    "\n",
    "# Split the data into training and testing sets\n",
    "train_set <- df[train_indices, ]\n",
    "test_set <- df[-train_indices, ]"
   ]
  },
  {
   "cell_type": "code",
   "execution_count": null,
   "id": "92b60e60-c917-4e17-b89e-ff8341250502",
   "metadata": {},
   "outputs": [],
   "source": []
  },
  {
   "cell_type": "code",
   "execution_count": 12,
   "id": "5927b6ea-a25b-4e62-b107-35b3a2d6aacb",
   "metadata": {},
   "outputs": [],
   "source": [
    "# Δημιουργία όρων ως 2ου βαθμο΄ύ\n",
    "\n",
    "test_set$Exp2 <- test_set$Exp^2\n",
    "\n",
    "train_set$Exp2 <- train_set$Exp^2"
   ]
  },
  {
   "cell_type": "code",
   "execution_count": 13,
   "id": "3ddac5d6-c4de-4809-b3d6-4285e1d92cc3",
   "metadata": {},
   "outputs": [
    {
     "name": "stdout",
     "output_type": "stream",
     "text": [
      "   Exp  Salary Exp2\n",
      "2    2   50000    4\n",
      "5    5  400000   25\n",
      "9    9  590000   81\n",
      "11  11 1100000  121\n",
      "10  10 1000000  100\n"
     ]
    }
   ],
   "source": [
    "print(head(train_set, 5))"
   ]
  },
  {
   "cell_type": "code",
   "execution_count": 14,
   "id": "481dfe3b-c65a-4c8c-b516-d6e20ccdca52",
   "metadata": {},
   "outputs": [],
   "source": [
    "model <- lm(Salary ~ Exp + Exp2, data = train_set)"
   ]
  },
  {
   "cell_type": "code",
   "execution_count": 15,
   "id": "7ca0d58e-673f-4c48-bf1e-31b220d33a88",
   "metadata": {},
   "outputs": [
    {
     "data": {
      "text/plain": [
       "\n",
       "Call:\n",
       "lm(formula = Salary ~ Exp + Exp2, data = train_set)\n",
       "\n",
       "Residuals:\n",
       "    Min      1Q  Median      3Q     Max \n",
       "-140643  -44196  -16732    9213  163496 \n",
       "\n",
       "Coefficients:\n",
       "            Estimate Std. Error t value Pr(>|t|)  \n",
       "(Intercept)    49185     175884   0.280   0.7891  \n",
       "Exp           -10353      61418  -0.169   0.8717  \n",
       "Exp2            9563       4599   2.079   0.0828 .\n",
       "---\n",
       "Signif. codes:  0 '***' 0.001 '**' 0.01 '*' 0.05 '.' 0.1 ' ' 1\n",
       "\n",
       "Residual standard error: 101500 on 6 degrees of freedom\n",
       "Multiple R-squared:  0.9471,\tAdjusted R-squared:  0.9294 \n",
       "F-statistic:  53.7 on 2 and 6 DF,  p-value: 0.0001481\n"
      ]
     },
     "metadata": {},
     "output_type": "display_data"
    }
   ],
   "source": [
    "summary(model)"
   ]
  },
  {
   "cell_type": "code",
   "execution_count": 16,
   "id": "debe3074-5789-48a6-8e65-6635bcccbc3b",
   "metadata": {},
   "outputs": [],
   "source": [
    "model <- lm(Salary ~ Exp2, data = train_set)"
   ]
  },
  {
   "cell_type": "code",
   "execution_count": 17,
   "id": "72062f5b-9613-4be1-a993-829e91077691",
   "metadata": {},
   "outputs": [
    {
     "data": {
      "text/plain": [
       "\n",
       "Call:\n",
       "lm(formula = Salary ~ Exp2, data = train_set)\n",
       "\n",
       "Residuals:\n",
       "    Min      1Q  Median      3Q     Max \n",
       "-143871  -40162   -6154   14069  159014 \n",
       "\n",
       "Coefficients:\n",
       "            Estimate Std. Error t value Pr(>|t|)    \n",
       "(Intercept)  20948.0    49769.9   0.421    0.686    \n",
       "Exp2          8801.5      788.3  11.165 1.03e-05 ***\n",
       "---\n",
       "Signif. codes:  0 '***' 0.001 '**' 0.01 '*' 0.05 '.' 0.1 ' ' 1\n",
       "\n",
       "Residual standard error: 94160 on 7 degrees of freedom\n",
       "Multiple R-squared:  0.9468,\tAdjusted R-squared:  0.9392 \n",
       "F-statistic: 124.7 on 1 and 7 DF,  p-value: 1.03e-05\n"
      ]
     },
     "metadata": {},
     "output_type": "display_data"
    }
   ],
   "source": [
    "summary(model)"
   ]
  },
  {
   "cell_type": "code",
   "execution_count": 19,
   "id": "0219ffc3-b082-44e9-b288-8c413af7aa97",
   "metadata": {},
   "outputs": [
    {
     "data": {
      "image/png": "[encoded data removed]",
      "text/plain": [
       "plot without title"
      ]
     },
     "metadata": {
      "image/png": {
       "height": 420,
       "width": 420
      }
     },
     "output_type": "display_data"
    }
   ],
   "source": [
    "df$Exp2 <- df$Exp^2\n",
    "\n",
    "plot(df$Exp, df$Salary, pch=19, col=\"blue\")"
   ]
  },
  {
   "cell_type": "code",
   "execution_count": 20,
   "id": "c699784d-3602-4828-be2c-3469d8e497da",
   "metadata": {},
   "outputs": [
    {
     "data": {
      "image/png": "[encoded data removed]",
      "text/plain": [
       "plot without title"
      ]
     },
     "metadata": {
      "image/png": {
       "height": 420,
       "width": 420
      }
     },
     "output_type": "display_data"
    }
   ],
   "source": [
    "ggplot(df, aes(x = df$Exp, y = df$Salary)) +\n",
    "  geom_point(color = 'blue') +\n",
    "  geom_line(aes(y = predict(model, newdata=df)), color = 'red') +\n",
    "  labs(x = \"Experience\", y = \"Salary\", title = \"Polynomial Regression\") +\n",
    "  theme_minimal()"
   ]
  },
  {
   "cell_type": "code",
   "execution_count": null,
   "id": "6a349215-b212-4420-960f-e25b40932577",
   "metadata": {},
   "outputs": [],
   "source": []
  }
 ],
 "metadata": {
  "kernelspec": {
   "display_name": "R",
   "language": "R",
   "name": "ir"
  },
  "language_info": {
   "codemirror_mode": "r",
   "file_extension": ".r",
   "mimetype": "text/x-r-source",
   "name": "R",
   "pygments_lexer": "r",
   "version": "4.5.1"
  }
 },
 "nbformat": 4,
 "nbformat_minor": 5
}
