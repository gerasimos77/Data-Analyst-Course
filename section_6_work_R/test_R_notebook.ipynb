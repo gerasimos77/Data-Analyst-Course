{
 "cells": [
  {
   "cell_type": "code",
   "execution_count": 2,
   "id": "d1d65bcd-d2ae-404d-86fd-7fc8102daadc",
   "metadata": {},
   "outputs": [
    {
     "name": "stdout",
     "output_type": "stream",
     "text": [
      "[1] 5\n"
     ]
    }
   ],
   "source": [
    "print(3+2)"
   ]
  },
  {
   "cell_type": "markdown",
   "id": "699b5154-57c4-4db6-bfdd-bcbb39ec8328",
   "metadata": {},
   "source": [
    "# Introduction to R in Jupyter Notebook\n",
    "xjhddjdl"
   ]
  },
  {
   "cell_type": "markdown",
   "id": "eb52428c-85c3-4d9a-9854-504f103041a8",
   "metadata": {},
   "source": [
    "## Section 1 - Add values"
   ]
  },
  {
   "cell_type": "code",
   "execution_count": 3,
   "id": "f03b2587-5624-47cd-88db-9c630d263878",
   "metadata": {},
   "outputs": [
    {
     "data": {
      "text/html": [
       "5"
      ],
      "text/latex": [
       "5"
      ],
      "text/markdown": [
       "5"
      ],
      "text/plain": [
       "[1] 5"
      ]
     },
     "metadata": {},
     "output_type": "display_data"
    }
   ],
   "source": [
    "3+2"
   ]
  },
  {
   "cell_type": "markdown",
   "id": "5918068c-7f8c-4b67-aa55-13a068241dba",
   "metadata": {},
   "source": [
    "## Section 2 - Print message"
   ]
  },
  {
   "cell_type": "code",
   "execution_count": 4,
   "id": "b862bd0c-7fd4-432c-a8d5-f834770526e6",
   "metadata": {},
   "outputs": [
    {
     "name": "stdout",
     "output_type": "stream",
     "text": [
      "[1] \"Hello World\"\n"
     ]
    }
   ],
   "source": [
    "print(\"Hello World\")"
   ]
  },
  {
   "cell_type": "markdown",
   "id": "a3a483bc-7dbb-428f-a88d-ee409ce6d3cb",
   "metadata": {},
   "source": [
    "## Section 3 - Graph"
   ]
  },
  {
   "cell_type": "code",
   "execution_count": 7,
   "id": "49bd52f0-081c-4856-b330-9d0a421b99d7",
   "metadata": {},
   "outputs": [
    {
     "data": {
      "image/png": "[encoded data removed]",
      "text/plain": [
       "plot without title"
      ]
     },
     "metadata": {
      "image/png": {
       "height": 420,
       "width": 420
      }
     },
     "output_type": "display_data"
    }
   ],
   "source": [
    "x = c(1, 2, 3, 4, 5)\n",
    "\n",
    "y = c(110, 120, 130, 140, 150)\n",
    "\n",
    "\n",
    "\n",
    "plot(x,y, pch=19)"
   ]
  }
 ],
 "metadata": {
  "kernelspec": {
   "display_name": "R",
   "language": "R",
   "name": "ir"
  },
  "language_info": {
   "codemirror_mode": "r",
   "file_extension": ".r",
   "mimetype": "text/x-r-source",
   "name": "R",
   "pygments_lexer": "r",
   "version": "4.5.1"
  }
 },
 "nbformat": 4,
 "nbformat_minor": 5
}
